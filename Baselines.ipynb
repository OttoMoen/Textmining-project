{
 "cells": [
  {
   "cell_type": "markdown",
   "metadata": {},
   "source": [
    "# 732A92 - Project Code - Preprocessing and Baselines"
   ]
  },
  {
   "cell_type": "markdown",
   "metadata": {},
   "source": [
    "## Data set"
   ]
  },
  {
   "cell_type": "code",
   "execution_count": 2,
   "metadata": {},
   "outputs": [],
   "source": [
    "import pandas as pd\n",
    "\n",
    "train_raw = pd.read_csv('train.csv')"
   ]
  },
  {
   "cell_type": "code",
   "execution_count": 3,
   "metadata": {
    "scrolled": true
   },
   "outputs": [
    {
     "data": {
      "text/html": [
       "<div>\n",
       "<style scoped>\n",
       "    .dataframe tbody tr th:only-of-type {\n",
       "        vertical-align: middle;\n",
       "    }\n",
       "\n",
       "    .dataframe tbody tr th {\n",
       "        vertical-align: top;\n",
       "    }\n",
       "\n",
       "    .dataframe thead th {\n",
       "        text-align: right;\n",
       "    }\n",
       "</style>\n",
       "<table border=\"1\" class=\"dataframe\">\n",
       "  <thead>\n",
       "    <tr style=\"text-align: right;\">\n",
       "      <th></th>\n",
       "      <th>review_id</th>\n",
       "      <th>title</th>\n",
       "      <th>year</th>\n",
       "      <th>user_review</th>\n",
       "      <th>user_suggestion</th>\n",
       "    </tr>\n",
       "  </thead>\n",
       "  <tbody>\n",
       "    <tr>\n",
       "      <th>0</th>\n",
       "      <td>1</td>\n",
       "      <td>Spooky's Jump Scare Mansion</td>\n",
       "      <td>2016.0</td>\n",
       "      <td>I'm scared and hearing creepy voices.  So I'll...</td>\n",
       "      <td>1</td>\n",
       "    </tr>\n",
       "    <tr>\n",
       "      <th>1</th>\n",
       "      <td>2</td>\n",
       "      <td>Spooky's Jump Scare Mansion</td>\n",
       "      <td>2016.0</td>\n",
       "      <td>Best game, more better than Sam Pepper's YouTu...</td>\n",
       "      <td>1</td>\n",
       "    </tr>\n",
       "    <tr>\n",
       "      <th>2</th>\n",
       "      <td>3</td>\n",
       "      <td>Spooky's Jump Scare Mansion</td>\n",
       "      <td>2016.0</td>\n",
       "      <td>A littly iffy on the controls, but once you kn...</td>\n",
       "      <td>1</td>\n",
       "    </tr>\n",
       "    <tr>\n",
       "      <th>3</th>\n",
       "      <td>4</td>\n",
       "      <td>Spooky's Jump Scare Mansion</td>\n",
       "      <td>2015.0</td>\n",
       "      <td>Great game, fun and colorful and all that.A si...</td>\n",
       "      <td>1</td>\n",
       "    </tr>\n",
       "    <tr>\n",
       "      <th>4</th>\n",
       "      <td>5</td>\n",
       "      <td>Spooky's Jump Scare Mansion</td>\n",
       "      <td>2015.0</td>\n",
       "      <td>Not many games have the cute tag right next to...</td>\n",
       "      <td>1</td>\n",
       "    </tr>\n",
       "  </tbody>\n",
       "</table>\n",
       "</div>"
      ],
      "text/plain": [
       "   review_id                        title    year  \\\n",
       "0          1  Spooky's Jump Scare Mansion  2016.0   \n",
       "1          2  Spooky's Jump Scare Mansion  2016.0   \n",
       "2          3  Spooky's Jump Scare Mansion  2016.0   \n",
       "3          4  Spooky's Jump Scare Mansion  2015.0   \n",
       "4          5  Spooky's Jump Scare Mansion  2015.0   \n",
       "\n",
       "                                         user_review  user_suggestion  \n",
       "0  I'm scared and hearing creepy voices.  So I'll...                1  \n",
       "1  Best game, more better than Sam Pepper's YouTu...                1  \n",
       "2  A littly iffy on the controls, but once you kn...                1  \n",
       "3  Great game, fun and colorful and all that.A si...                1  \n",
       "4  Not many games have the cute tag right next to...                1  "
      ]
     },
     "execution_count": 3,
     "metadata": {},
     "output_type": "execute_result"
    }
   ],
   "source": [
    "train_raw.head()"
   ]
  },
  {
   "cell_type": "markdown",
   "metadata": {},
   "source": [
    "## Visualization for class distribution and review lengths"
   ]
  },
  {
   "cell_type": "code",
   "execution_count": 3,
   "metadata": {},
   "outputs": [
    {
     "data": {
      "image/png": "[encoded data removed]",
      "text/plain": [
       "<Figure size 432x288 with 1 Axes>"
      ]
     },
     "metadata": {
      "needs_background": "light"
     },
     "output_type": "display_data"
    }
   ],
   "source": [
    "import matplotlib.pyplot as plt\n",
    "\n",
    "train_raw['user_suggestion'].value_counts().plot(kind='bar', rot=0)\n",
    "plt.title('Class distribution')\n",
    "plt.xticks(rotation = 0)\n",
    "plt.savefig('distribution.png')\n",
    "plt.show()"
   ]
  },
  {
   "cell_type": "code",
   "execution_count": 75,
   "metadata": {},
   "outputs": [],
   "source": [
    "max_len = 0\n",
    "rlength = []\n",
    "\n",
    "for i in range(train_raw.shape[0]):\n",
    "    length = len(train_raw.user_review[i].split())\n",
    "    rlength.append(length)\n",
    "    if length > max_len:\n",
    "        max_len = length"
   ]
  },
  {
   "cell_type": "code",
   "execution_count": 76,
   "metadata": {},
   "outputs": [
    {
     "data": {
      "image/png": "[encoded data removed]",
      "text/plain": [
       "<Figure size 432x288 with 1 Axes>"
      ]
     },
     "metadata": {
      "needs_background": "light"
     },
     "output_type": "display_data"
    }
   ],
   "source": [
    "plt.hist(rlength)\n",
    "plt.title('Review length')\n",
    "plt.savefig('length.png')\n",
    "plt.show()"
   ]
  },
  {
   "cell_type": "markdown",
   "metadata": {},
   "source": [
    "## Preprocessing the data"
   ]
  },
  {
   "cell_type": "code",
   "execution_count": 4,
   "metadata": {},
   "outputs": [],
   "source": [
    "import numpy as np\n",
    "import spacy\n",
    "from sklearn.model_selection import train_test_split\n",
    "from sklearn.feature_extraction.text import TfidfVectorizer"
   ]
  },
  {
   "cell_type": "code",
   "execution_count": 63,
   "metadata": {},
   "outputs": [],
   "source": [
    "nlp = spacy.load(\"en_core_web_lg\", exclude=[\"parser\", \"ner\"])\n",
    "\n",
    "# Remove stop words and non-alphabetic tokens\n",
    "def preprocess(text):\n",
    "    doc = nlp(text)\n",
    "    res = \"\"\n",
    "    for token in doc:\n",
    "        if token.is_stop != True and token.is_alpha == True:\n",
    "            res = res + \" \"+ token.text.lower()\n",
    "    return res\n",
    "\n",
    "train_full = train_raw.drop(['review_id', 'year'], axis=1)\n",
    "\n",
    "train_full['ur_prep'] = 'na'\n",
    "train_full['ur_prep'] = train_full['user_review'].apply(preprocess)"
   ]
  },
  {
   "cell_type": "code",
   "execution_count": 38,
   "metadata": {},
   "outputs": [
    {
     "data": {
      "text/html": [
       "<div>\n",
       "<style scoped>\n",
       "    .dataframe tbody tr th:only-of-type {\n",
       "        vertical-align: middle;\n",
       "    }\n",
       "\n",
       "    .dataframe tbody tr th {\n",
       "        vertical-align: top;\n",
       "    }\n",
       "\n",
       "    .dataframe thead th {\n",
       "        text-align: right;\n",
       "    }\n",
       "</style>\n",
       "<table border=\"1\" class=\"dataframe\">\n",
       "  <thead>\n",
       "    <tr style=\"text-align: right;\">\n",
       "      <th></th>\n",
       "      <th>title</th>\n",
       "      <th>user_review</th>\n",
       "      <th>user_suggestion</th>\n",
       "      <th>ur_prep</th>\n",
       "    </tr>\n",
       "  </thead>\n",
       "  <tbody>\n",
       "    <tr>\n",
       "      <th>0</th>\n",
       "      <td>Spooky's Jump Scare Mansion</td>\n",
       "      <td>I'm scared and hearing creepy voices.  So I'll...</td>\n",
       "      <td>1</td>\n",
       "      <td>scared hearing creepy voices pause moment wri...</td>\n",
       "    </tr>\n",
       "    <tr>\n",
       "      <th>1</th>\n",
       "      <td>Spooky's Jump Scare Mansion</td>\n",
       "      <td>Best game, more better than Sam Pepper's YouTu...</td>\n",
       "      <td>1</td>\n",
       "      <td>best game better sam pepper youtube account n...</td>\n",
       "    </tr>\n",
       "    <tr>\n",
       "      <th>2</th>\n",
       "      <td>Spooky's Jump Scare Mansion</td>\n",
       "      <td>A littly iffy on the controls, but once you kn...</td>\n",
       "      <td>1</td>\n",
       "      <td>littly iffy controls know play easy master fl...</td>\n",
       "    </tr>\n",
       "    <tr>\n",
       "      <th>3</th>\n",
       "      <td>Spooky's Jump Scare Mansion</td>\n",
       "      <td>Great game, fun and colorful and all that.A si...</td>\n",
       "      <td>1</td>\n",
       "      <td>great game fun colorful note getting windowed...</td>\n",
       "    </tr>\n",
       "    <tr>\n",
       "      <th>4</th>\n",
       "      <td>Spooky's Jump Scare Mansion</td>\n",
       "      <td>Not many games have the cute tag right next to...</td>\n",
       "      <td>1</td>\n",
       "      <td>games cute tag right horror tag steam played ...</td>\n",
       "    </tr>\n",
       "  </tbody>\n",
       "</table>\n",
       "</div>"
      ],
      "text/plain": [
       "                         title  \\\n",
       "0  Spooky's Jump Scare Mansion   \n",
       "1  Spooky's Jump Scare Mansion   \n",
       "2  Spooky's Jump Scare Mansion   \n",
       "3  Spooky's Jump Scare Mansion   \n",
       "4  Spooky's Jump Scare Mansion   \n",
       "\n",
       "                                         user_review  user_suggestion  \\\n",
       "0  I'm scared and hearing creepy voices.  So I'll...                1   \n",
       "1  Best game, more better than Sam Pepper's YouTu...                1   \n",
       "2  A littly iffy on the controls, but once you kn...                1   \n",
       "3  Great game, fun and colorful and all that.A si...                1   \n",
       "4  Not many games have the cute tag right next to...                1   \n",
       "\n",
       "                                             ur_prep  \n",
       "0   scared hearing creepy voices pause moment wri...  \n",
       "1   best game better sam pepper youtube account n...  \n",
       "2   littly iffy controls know play easy master fl...  \n",
       "3   great game fun colorful note getting windowed...  \n",
       "4   games cute tag right horror tag steam played ...  "
      ]
     },
     "execution_count": 38,
     "metadata": {},
     "output_type": "execute_result"
    }
   ],
   "source": [
    "train_full.head()"
   ]
  },
  {
   "cell_type": "markdown",
   "metadata": {},
   "source": [
    "### Visualize most common words"
   ]
  },
  {
   "cell_type": "code",
   "execution_count": 52,
   "metadata": {},
   "outputs": [
    {
     "data": {
      "image/png": "[encoded data removed]",
      "text/plain": [
       "<Figure size 432x288 with 1 Axes>"
      ]
     },
     "metadata": {
      "needs_background": "light"
     },
     "output_type": "display_data"
    }
   ],
   "source": [
    "pd.Series(' '.join(train_full['ur_prep']).split()).value_counts()[:20].sort_values().plot(kind='barh', sort_columns=True)\n",
    "plt.title(\"Top 20 words\")\n",
    "plt.savefig('words.png')\n",
    "plt.show()"
   ]
  },
  {
   "cell_type": "markdown",
   "metadata": {},
   "source": [
    "### Remove the 5 longest reviews to cut the length from 1600 to 698"
   ]
  },
  {
   "cell_type": "code",
   "execution_count": 81,
   "metadata": {},
   "outputs": [],
   "source": [
    "max_len = 0\n",
    "rlength = []\n",
    "for i in range(train_full.shape[0]):\n",
    "    length = len(train_full.ur_prep[i].split())\n",
    "    rlength.append(length)\n",
    "    if length > max_len:\n",
    "        max_len = length\n",
    "\n",
    "top_5_idx = np.argsort(rlength)[-5:]\n",
    "train_full = train_full.drop(top_5_idx, axis=0)\n",
    "train_full = train_full.reset_index"
   ]
  },
  {
   "cell_type": "markdown",
   "metadata": {},
   "source": [
    "## Create or load final data sets\n",
    "### Choose one of the following two code blocks"
   ]
  },
  {
   "cell_type": "markdown",
   "metadata": {},
   "source": [
    "### Create data sets from preprocessing"
   ]
  },
  {
   "cell_type": "code",
   "execution_count": null,
   "metadata": {},
   "outputs": [],
   "source": [
    "# Splitting the data - uncomment if no access to saved files\n",
    "#df_train, df_val = train_test_split(train_full, test_size=0.2)\n",
    "#df_val, df_test = train_test_split(df_val, test_size=0.5)"
   ]
  },
  {
   "cell_type": "markdown",
   "metadata": {},
   "source": [
    "### Read data sets from files"
   ]
  },
  {
   "cell_type": "code",
   "execution_count": 24,
   "metadata": {},
   "outputs": [],
   "source": [
    "df_train = pd.read_csv('df_train.csv')\n",
    "df_val = pd.read_csv('df_val.csv')\n",
    "df_test = pd.read_csv('df_test.csv')"
   ]
  },
  {
   "cell_type": "markdown",
   "metadata": {},
   "source": [
    "### Remove NaN entries"
   ]
  },
  {
   "cell_type": "code",
   "execution_count": 25,
   "metadata": {},
   "outputs": [],
   "source": [
    "df_train.dropna(subset = [\"ur_prep\"], inplace=True)\n",
    "df_val.dropna(subset = [\"ur_prep\"], inplace=True)\n",
    "df_test.dropna(subset = [\"ur_prep\"], inplace=True)"
   ]
  },
  {
   "cell_type": "code",
   "execution_count": 26,
   "metadata": {},
   "outputs": [
    {
     "name": "stdout",
     "output_type": "stream",
     "text": [
      "(17494, 5)\n",
      "(12227, 7)\n",
      "(2618, 7)\n",
      "(2622, 7)\n"
     ]
    }
   ],
   "source": [
    "print(train_raw.shape)\n",
    "print(df_train.shape)\n",
    "print(df_val.shape)\n",
    "print(df_test.shape)"
   ]
  },
  {
   "cell_type": "markdown",
   "metadata": {},
   "source": [
    "## Naive Bayes classifier"
   ]
  },
  {
   "cell_type": "code",
   "execution_count": 28,
   "metadata": {},
   "outputs": [
    {
     "name": "stdout",
     "output_type": "stream",
     "text": [
      "              precision    recall  f1-score   support\n",
      "\n",
      "           0       0.89      0.59      0.71      1093\n",
      "           1       0.77      0.95      0.85      1525\n",
      "\n",
      "    accuracy                           0.80      2618\n",
      "   macro avg       0.83      0.77      0.78      2618\n",
      "weighted avg       0.82      0.80      0.79      2618\n",
      "\n"
     ]
    }
   ],
   "source": [
    "from sklearn.naive_bayes import MultinomialNB\n",
    "from sklearn.feature_extraction.text import CountVectorizer\n",
    "from sklearn.metrics import classification_report\n",
    "from sklearn.pipeline import Pipeline\n",
    "\n",
    "pipe = Pipeline([('vectorizer', TfidfVectorizer()), ('MNB', MultinomialNB())])\n",
    "pipe.fit(df_train['ur_prep'], df_train['user_suggestion'])\n",
    "\n",
    "testpreds = pipe.predict(df_val['ur_prep'])\n",
    "print(classification_report(df_val['user_suggestion'], testpreds))"
   ]
  },
  {
   "cell_type": "code",
   "execution_count": 29,
   "metadata": {},
   "outputs": [
    {
     "data": {
      "image/png": "[encoded data removed]",
      "text/plain": [
       "<Figure size 432x288 with 2 Axes>"
      ]
     },
     "metadata": {
      "needs_background": "light"
     },
     "output_type": "display_data"
    }
   ],
   "source": [
    "from sklearn.metrics import confusion_matrix\n",
    "from sklearn.metrics import ConfusionMatrixDisplay\n",
    "disp = ConfusionMatrixDisplay(confusion_matrix(df_val['user_suggestion'], testpreds))\n",
    "disp.plot()\n",
    "plt.title('Confusion Matrix')\n",
    "plt.savefig('cm_default.png')\n",
    "plt.show()"
   ]
  },
  {
   "cell_type": "markdown",
   "metadata": {},
   "source": [
    "## Baselines"
   ]
  },
  {
   "cell_type": "code",
   "execution_count": 11,
   "metadata": {
    "scrolled": true
   },
   "outputs": [
    {
     "name": "stdout",
     "output_type": "stream",
     "text": [
      "              precision    recall  f1-score   support\n",
      "\n",
      "           0       0.43      0.43      0.43      1093\n",
      "           1       0.59      0.59      0.59      1525\n",
      "\n",
      "    accuracy                           0.52      2618\n",
      "   macro avg       0.51      0.51      0.51      2618\n",
      "weighted avg       0.53      0.52      0.53      2618\n",
      "\n"
     ]
    }
   ],
   "source": [
    "from sklearn.dummy import DummyClassifier\n",
    "\n",
    "pipe2 = Pipeline([('vectorizer', TfidfVectorizer()), ('Dummy1', DummyClassifier(strategy='stratified'))])\n",
    "pipe2.fit(df_train['ur_prep'], df_train['user_suggestion'])\n",
    "\n",
    "testpreds2 = pipe2.predict(df_val['ur_prep'])\n",
    "print(classification_report(df_val['user_suggestion'], testpreds2))"
   ]
  },
  {
   "cell_type": "code",
   "execution_count": 12,
   "metadata": {},
   "outputs": [
    {
     "name": "stdout",
     "output_type": "stream",
     "text": [
      "              precision    recall  f1-score   support\n",
      "\n",
      "           0       0.00      0.00      0.00      1093\n",
      "           1       0.58      1.00      0.74      1525\n",
      "\n",
      "    accuracy                           0.58      2618\n",
      "   macro avg       0.29      0.50      0.37      2618\n",
      "weighted avg       0.34      0.58      0.43      2618\n",
      "\n"
     ]
    },
    {
     "name": "stderr",
     "output_type": "stream",
     "text": [
      "C:\\Users\\Ottos-PC\\anaconda3\\lib\\site-packages\\sklearn\\metrics\\_classification.py:1308: UndefinedMetricWarning: Precision and F-score are ill-defined and being set to 0.0 in labels with no predicted samples. Use `zero_division` parameter to control this behavior.\n",
      "  _warn_prf(average, modifier, msg_start, len(result))\n",
      "C:\\Users\\Ottos-PC\\anaconda3\\lib\\site-packages\\sklearn\\metrics\\_classification.py:1308: UndefinedMetricWarning: Precision and F-score are ill-defined and being set to 0.0 in labels with no predicted samples. Use `zero_division` parameter to control this behavior.\n",
      "  _warn_prf(average, modifier, msg_start, len(result))\n",
      "C:\\Users\\Ottos-PC\\anaconda3\\lib\\site-packages\\sklearn\\metrics\\_classification.py:1308: UndefinedMetricWarning: Precision and F-score are ill-defined and being set to 0.0 in labels with no predicted samples. Use `zero_division` parameter to control this behavior.\n",
      "  _warn_prf(average, modifier, msg_start, len(result))\n"
     ]
    }
   ],
   "source": [
    "pipe3 = Pipeline([('vectorizer', TfidfVectorizer()), ('Dummy1', DummyClassifier(strategy='most_frequent'))])\n",
    "pipe3.fit(df_train['ur_prep'], df_train['user_suggestion'])\n",
    "\n",
    "testpreds3 = pipe3.predict(df_val['ur_prep'])\n",
    "print(classification_report(df_val['user_suggestion'], testpreds3))"
   ]
  },
  {
   "cell_type": "markdown",
   "metadata": {},
   "source": [
    "## Creating a balanced data set with oversampling"
   ]
  },
  {
   "cell_type": "code",
   "execution_count": 43,
   "metadata": {},
   "outputs": [],
   "source": [
    "from imblearn.over_sampling import RandomOverSampler"
   ]
  },
  {
   "cell_type": "code",
   "execution_count": 45,
   "metadata": {},
   "outputs": [],
   "source": [
    "ros = RandomOverSampler(random_state=69)\n",
    "X_balanced, y_balanced = ros.fit_resample(df_train.ur_prep.values.reshape(-1, 1), df_train.user_suggestion)"
   ]
  },
  {
   "cell_type": "code",
   "execution_count": 52,
   "metadata": {},
   "outputs": [],
   "source": [
    "df_balanced = pd.DataFrame(X_balanced, columns=['ur_prep'])\n",
    "df_balanced['user_suggestion'] = y_balanced"
   ]
  },
  {
   "cell_type": "code",
   "execution_count": 60,
   "metadata": {},
   "outputs": [],
   "source": [
    "df_balanced.head()\n",
    "df_balanced.to_csv('df_balanced.csv')"
   ]
  },
  {
   "cell_type": "code",
   "execution_count": 54,
   "metadata": {},
   "outputs": [
    {
     "name": "stdout",
     "output_type": "stream",
     "text": [
      "              precision    recall  f1-score   support\n",
      "\n",
      "           0       0.75      0.84      0.79      1093\n",
      "           1       0.87      0.80      0.84      1525\n",
      "\n",
      "    accuracy                           0.82      2618\n",
      "   macro avg       0.81      0.82      0.81      2618\n",
      "weighted avg       0.82      0.82      0.82      2618\n",
      "\n"
     ]
    }
   ],
   "source": [
    "pipe4 = Pipeline([('vectorizer', TfidfVectorizer()), ('MNB', MultinomialNB())])\n",
    "pipe4.fit(df_balanced['ur_prep'], df_balanced['user_suggestion'])\n",
    "\n",
    "testpreds4 = pipe4.predict(df_val['ur_prep'])\n",
    "print(classification_report(df_val['user_suggestion'], testpreds4))"
   ]
  },
  {
   "cell_type": "code",
   "execution_count": 55,
   "metadata": {},
   "outputs": [
    {
     "data": {
      "image/png": "[encoded data removed]",
      "text/plain": [
       "<Figure size 432x288 with 2 Axes>"
      ]
     },
     "metadata": {
      "needs_background": "light"
     },
     "output_type": "display_data"
    }
   ],
   "source": [
    "disp = ConfusionMatrixDisplay(confusion_matrix(df_val['user_suggestion'], testpreds4))\n",
    "disp.plot()\n",
    "plt.title('Confusion Matrix')\n",
    "plt.savefig('cm_balanced.png')\n",
    "plt.show()"
   ]
  },
  {
   "cell_type": "markdown",
   "metadata": {},
   "source": [
    "## Grid search"
   ]
  },
  {
   "cell_type": "code",
   "execution_count": 56,
   "metadata": {},
   "outputs": [
    {
     "data": {
      "text/plain": [
       "GridSearchCV(cv=5,\n",
       "             estimator=Pipeline(steps=[('vectorizer', TfidfVectorizer()),\n",
       "                                       ('MNB', MultinomialNB())]),\n",
       "             param_grid={'MNB__alpha': [1, 0.9, 0.8, 0.7, 0.6, 0.5, 0.4, 0.3,\n",
       "                                        0.2, 0.1],\n",
       "                         'vectorizer__binary': [False, True],\n",
       "                         'vectorizer__ngram_range': [(1, 1), (1, 2)]})"
      ]
     },
     "execution_count": 56,
     "metadata": {},
     "output_type": "execute_result"
    }
   ],
   "source": [
    "# TODO: Write code here to implement the grid search\n",
    "from sklearn.model_selection import GridSearchCV\n",
    "\n",
    "parameters = {'vectorizer__binary':[False, True], \n",
    "              'vectorizer__ngram_range':[(1,1), (1,2)], \n",
    "              'MNB__alpha':[1, 0.9, 0.8, 0.7, 0.6, 0.5, 0.4, 0.3, 0.2, 0.1]}\n",
    "\n",
    "clf = GridSearchCV(pipe4, parameters, cv=5)\n",
    "clf.fit(df_train['ur_prep'], df_train['user_suggestion'])"
   ]
  },
  {
   "cell_type": "code",
   "execution_count": 57,
   "metadata": {},
   "outputs": [
    {
     "name": "stdout",
     "output_type": "stream",
     "text": [
      "The best model is found using binary = True, ngram_range = (1, 1), alpha = 0.2 and has an average accuracy of 0.824 across the five folds.\n"
     ]
    }
   ],
   "source": [
    "best_params = clf.best_params_\n",
    "\n",
    "print(f\"The best model is found using binary = {best_params['vectorizer__binary']}, ngram_range = {best_params['vectorizer__ngram_range']}, alpha = {best_params['MNB__alpha']} and has an average accuracy of {round(clf.best_score_, 3)} across the five folds.\")"
   ]
  },
  {
   "cell_type": "markdown",
   "metadata": {},
   "source": [
    "### Predicting on the test set"
   ]
  },
  {
   "cell_type": "code",
   "execution_count": 61,
   "metadata": {},
   "outputs": [
    {
     "name": "stdout",
     "output_type": "stream",
     "text": [
      "              precision    recall  f1-score   support\n",
      "\n",
      "           0       0.84      0.71      0.77      1133\n",
      "           1       0.80      0.90      0.85      1489\n",
      "\n",
      "    accuracy                           0.82      2622\n",
      "   macro avg       0.82      0.80      0.81      2622\n",
      "weighted avg       0.82      0.82      0.81      2622\n",
      "\n"
     ]
    }
   ],
   "source": [
    "testpreds5 = clf.predict(df_test['ur_prep'])\n",
    "print(classification_report(df_test['user_suggestion'], testpreds5))"
   ]
  },
  {
   "cell_type": "code",
   "execution_count": 62,
   "metadata": {},
   "outputs": [
    {
     "data": {
      "image/png": "[encoded data removed]",
      "text/plain": [
       "<Figure size 432x288 with 2 Axes>"
      ]
     },
     "metadata": {
      "needs_background": "light"
     },
     "output_type": "display_data"
    }
   ],
   "source": [
    "disp = ConfusionMatrixDisplay(confusion_matrix(df_test['user_suggestion'], testpreds5))\n",
    "disp.plot()\n",
    "plt.title('Confusion Matrix')\n",
    "plt.savefig('cm_nb_test.png')\n",
    "plt.show()"
   ]
  }
 ],
 "metadata": {
  "kernelspec": {
   "display_name": "Python 3 (ipykernel)",
   "language": "python",
   "name": "python3"
  },
  "language_info": {
   "codemirror_mode": {
    "name": "ipython",
    "version": 3
   },
   "file_extension": ".py",
   "mimetype": "text/x-python",
   "name": "python",
   "nbconvert_exporter": "python",
   "pygments_lexer": "ipython3",
   "version": "3.9.7"
  }
 },
 "nbformat": 4,
 "nbformat_minor": 2
}
